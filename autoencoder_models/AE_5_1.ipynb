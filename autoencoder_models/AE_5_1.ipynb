{
 "cells": [
  {
   "cell_type": "code",
   "execution_count": 22,
   "metadata": {},
   "outputs": [],
   "source": [
    "from __future__ import division, print_function, absolute_import\n",
    "import tensorflow as tf\n",
    "import pandas as pd\n",
    "import numpy as np\n",
    "from sklearn.utils import shuffle\n",
    "from sklearn.model_selection import train_test_split\n",
    "import matplotlib.pyplot as plt\n",
    "from matplotlib.pyplot import scatter, figure, subplot, savefig\n",
    "import time\n",
    "from functools import partial\n",
    "import scedar\n",
    "from sklearn.cluster import AgglomerativeClustering\n",
    "import utils\n",
    "import os"
   ]
  },
  {
   "cell_type": "code",
   "execution_count": 2,
   "metadata": {},
   "outputs": [
    {
     "name": "stdout",
     "output_type": "stream",
     "text": [
      "(1078, 26596)\n"
     ]
    }
   ],
   "source": [
    "try: data\n",
    "except: data  =  pd.read_csv('/Users/dawnstear/desktop/Mid_Atlantic_Poster/sc_data/n_1078/data.csv')  \n",
    "print(np.shape(data))\n",
    "\n",
    "np.random.seed(42)\n",
    "data = shuffle(data)\n",
    "celltypes = data['TYPE'] # save cell type vector in case we need it later\n",
    "y = data['Labels'] # save labels\n",
    "X = data.drop(['Labels','TYPE'],axis=1) \n",
    "cellcount, genecount = np.shape(X)\n",
    "\n",
    "X_train, X_test, y_train, y_test = train_test_split(X,y,\n",
    "                                                    test_size=0.2,random_state=144)\n",
    "# Create Data Object for batch retrieval\n",
    "batchObj = utils.Data(X,y)"
   ]
  },
  {
   "cell_type": "code",
   "execution_count": 3,
   "metadata": {},
   "outputs": [],
   "source": [
    "n_inputs = genecount\n",
    "n_hidden1 = 300\n",
    "n_hidden2 = 2 # latent space dimension\n",
    "n_hidden3 = n_hidden1\n",
    "n_outputs = n_inputs\n",
    "\n",
    "learning_rate = 1e-2\n",
    "l2_reg = 1e-3\n",
    "\n",
    "X = tf.placeholder(tf.float32,shape=[None, n_inputs])\n",
    "\n",
    "#activation = tf.nn.elu\n",
    "he_initializer = tf.contrib.layers.variance_scaling_initializer() #he_init\n",
    "regularizer = tf.contrib.layers.l2_regularizer(l2_reg) # l2_regularizer\n",
    "\n"
   ]
  },
  {
   "cell_type": "code",
   "execution_count": 4,
   "metadata": {},
   "outputs": [
    {
     "name": "stdout",
     "output_type": "stream",
     "text": [
      "[<tf.Variable 'weights1:0' shape=(26594, 300) dtype=float32_ref>, <tf.Variable 'weights2_encoded:0' shape=(300, 2) dtype=float32_ref>, <tf.Variable 'biases1:0' shape=(300,) dtype=float32_ref>, <tf.Variable 'biases2:0' shape=(2,) dtype=float32_ref>, <tf.Variable 'biases3:0' shape=(300,) dtype=float32_ref>, <tf.Variable 'biases4:0' shape=(26594,) dtype=float32_ref>]\n"
     ]
    }
   ],
   "source": [
    "# Tie Encoder weights to Decoder weights, save space\n",
    "weights1_init =  he_initializer([n_inputs, n_hidden1])\n",
    "weights2_init = he_initializer([n_hidden1, n_hidden2])\n",
    "\n",
    "weights1 = tf.Variable(weights1_init, dtype=tf.float32,name='weights1')\n",
    "weights2 = tf.Variable(weights2_init, dtype=tf.float32,name='weights2_encoded')\n",
    "weights3 = tf.transpose(weights2,name='weights3') # tied\n",
    "weights4 = tf.transpose(weights1,name='weights4') # tied\n",
    "\n",
    "biases1 = tf.Variable(tf.zeros(n_hidden1),name='biases1')\n",
    "biases2 = tf.Variable(tf.zeros(n_hidden2),name='biases2')\n",
    "biases3 = tf.Variable(tf.zeros(n_hidden3),name='biases3')\n",
    "biases4 = tf.Variable(tf.zeros(n_outputs),name='biases4')\n",
    "\n",
    "hidden1 = tf.nn.elu(tf.matmul(X,weights1) + biases1)\n",
    "hidden2 = tf.nn.elu(tf.matmul(hidden1,weights2) + biases2)\n",
    "hidden3 = tf.nn.elu(tf.matmul(hidden2,weights3) + biases3)\n",
    "outputs = tf.matmul(hidden3,weights4) + biases4\n",
    "\n",
    "print(tf.trainable_variables())"
   ]
  },
  {
   "cell_type": "code",
   "execution_count": 5,
   "metadata": {},
   "outputs": [],
   "source": [
    "reconstruction_loss = tf.reduce_mean(tf.square(outputs - X))\n",
    "reg_loss = regularizer(weights1) + regularizer(weights2)\n",
    "loss = reconstruction_loss + reg_loss\n",
    "optimizer = tf.train.AdamOptimizer(learning_rate)\n",
    "training_op = optimizer.minimize(loss)\n",
    "\n",
    "n_epochs = 80\n",
    "batch_size = 85\n",
    "n_batches = cellcount//batch_size\n",
    "TrainLossVec = []"
   ]
  },
  {
   "cell_type": "code",
   "execution_count": 6,
   "metadata": {},
   "outputs": [
    {
     "name": "stdout",
     "output_type": "stream",
     "text": [
      "Epoch 0- Average Loss: 17.0440731048584\n",
      "Epoch 1- Average Loss: 15.586136420567831\n",
      "Epoch 2- Average Loss: 14.656606038411459\n",
      "Epoch 3- Average Loss: 12.121734062830607\n",
      "Epoch 4- Average Loss: 10.083479324976603\n",
      "Epoch 5- Average Loss: 7.945001602172852\n",
      "Epoch 6- Average Loss: 6.3295295635859175\n",
      "Epoch 7- Average Loss: 5.583338220914205\n",
      "Epoch 8- Average Loss: 5.409634510676066\n",
      "Epoch 9- Average Loss: 5.3346736033757525\n",
      "Epoch 10- Average Loss: 5.329075455665588\n",
      "Epoch 11- Average Loss: 5.286602894465129\n",
      "Epoch 12- Average Loss: 5.267145713170369\n",
      "Epoch 13- Average Loss: 5.242042660713196\n",
      "Epoch 14- Average Loss: 5.30928647518158\n",
      "Epoch 15- Average Loss: 5.270862857500712\n",
      "Epoch 16- Average Loss: 5.205891489982605\n",
      "Epoch 17- Average Loss: 5.263561765352885\n",
      "Epoch 18- Average Loss: 5.368919491767883\n",
      "Epoch 19- Average Loss: 5.164523879686992\n",
      "Epoch 20- Average Loss: 5.237512985865275\n",
      "Epoch 21- Average Loss: 5.258097370465596\n",
      "Epoch 22- Average Loss: 5.138484477996826\n",
      "Epoch 23- Average Loss: 5.2822433312733965\n",
      "Epoch 24- Average Loss: 5.240392009417216\n",
      "Epoch 25- Average Loss: 5.222527702649434\n",
      "Epoch 26- Average Loss: 5.249442021052043\n",
      "Epoch 27- Average Loss: 5.161361535390218\n",
      "Epoch 28- Average Loss: 5.174303491910298\n",
      "Epoch 29- Average Loss: 5.280919472376506\n",
      "Epoch 30- Average Loss: 5.199547092119853\n",
      "Epoch 31- Average Loss: 5.113316297531128\n",
      "Epoch 32- Average Loss: 5.273238619168599\n",
      "Epoch 33- Average Loss: 5.172291715939839\n",
      "Epoch 34- Average Loss: 5.231505831082662\n",
      "Epoch 35- Average Loss: 5.231781403223674\n",
      "Epoch 36- Average Loss: 5.131661653518677\n",
      "Epoch 37- Average Loss: 5.212685187657674\n",
      "Epoch 38- Average Loss: 5.154519438743591\n",
      "Epoch 39- Average Loss: 5.215072870254517\n",
      "Epoch 40- Average Loss: 5.225505193074544\n",
      "Epoch 41- Average Loss: 5.114863872528076\n",
      "Epoch 42- Average Loss: 5.22588833173116\n",
      "Epoch 43- Average Loss: 5.19265619913737\n",
      "Epoch 44- Average Loss: 5.131003657976787\n",
      "Epoch 45- Average Loss: 5.11743168036143\n",
      "Epoch 46- Average Loss: 5.164678573608398\n",
      "Epoch 47- Average Loss: 5.260568658510844\n",
      "Epoch 48- Average Loss: 5.104336182276408\n",
      "Epoch 49- Average Loss: 5.155431032180786\n",
      "Epoch 50- Average Loss: 5.216896057128906\n",
      "Epoch 51- Average Loss: 5.10570768515269\n",
      "Epoch 52- Average Loss: 5.139957229296367\n",
      "Epoch 53- Average Loss: 5.1342694362004595\n",
      "Epoch 54- Average Loss: 5.180079817771912\n",
      "Epoch 55- Average Loss: 5.224981705347697\n",
      "Epoch 56- Average Loss: 5.1063839594523115\n",
      "Epoch 57- Average Loss: 5.098123550415039\n",
      "Epoch 58- Average Loss: 5.164379119873047\n",
      "Epoch 59- Average Loss: 5.1911195119222\n",
      "Epoch 60- Average Loss: 5.156041304270427\n",
      "Epoch 61- Average Loss: 5.088806390762329\n",
      "Epoch 62- Average Loss: 5.165509859720866\n",
      "Epoch 63- Average Loss: 5.150851448376973\n",
      "Epoch 64- Average Loss: 5.123644232749939\n",
      "Epoch 65- Average Loss: 5.195540189743042\n",
      "Epoch 66- Average Loss: 5.133102536201477\n",
      "Epoch 67- Average Loss: 5.084054072697957\n",
      "Epoch 68- Average Loss: 5.21832553545634\n",
      "Epoch 69- Average Loss: 5.095901807149251\n",
      "Epoch 70- Average Loss: 5.117752432823181\n",
      "Epoch 71- Average Loss: 5.128642876942952\n",
      "Epoch 72- Average Loss: 5.124467253684998\n",
      "Epoch 73- Average Loss: 5.085565606753032\n",
      "Epoch 74- Average Loss: 5.163541992505391\n",
      "Epoch 75- Average Loss: 5.0692739089330034\n",
      "Epoch 76- Average Loss: 5.126143058141072\n",
      "Epoch 77- Average Loss: 5.198550899823506\n",
      "Epoch 78- Average Loss: 5.163627703984578\n",
      "Epoch 79- Average Loss: 5.118679801623027\n",
      "Training 80 epochs took 370.21519899368286 seconds\n"
     ]
    },
    {
     "data": {
      "image/png": "[encoded data removed]",
      "text/plain": [
       "<Figure size 432x288 with 1 Axes>"
      ]
     },
     "metadata": {},
     "output_type": "display_data"
    }
   ],
   "source": [
    "# Early Stopping\n",
    "min_delta = 0.01\n",
    "patience = 6\n",
    "\n",
    "\n",
    "init = tf.global_variables_initializer()\n",
    "start = time.time()\n",
    "\n",
    "# Train Model\n",
    "with tf.Session() as sess:\n",
    "    sess.run(init)\n",
    "    for epoch in range(n_epochs):\n",
    "        avg_loss = 0\n",
    "        \n",
    "        for iteration in range(n_batches):\n",
    "            X_train_batch, y_batch = batchObj.train_batch(batch_size=batch_size)\n",
    "            _, iter_loss = sess.run([training_op, loss], feed_dict={X: X_train_batch})\n",
    "            avg_loss += iter_loss\n",
    "            \n",
    "        avg_loss = avg_loss/n_batches    \n",
    "        TrainLossVec = np.append(TrainLossVec,avg_loss)     \n",
    "        print('Epoch %s- Average Loss: %s' % (epoch,avg_loss))\n",
    "        \n",
    "    latent_space0 = sess.run('weights2_encoded:0')\n",
    "    #latent_space1 = sess.run('weights2_encoded_1:0')\n",
    "    #latent_space2 = sess.run('weights2_encoded_2:0')\n",
    "    \n",
    "    \n",
    "print('Training %s epochs took %s seconds' % (n_epochs, time.time()-start))    \n",
    "# *--------------- Plot Training Loss Results -------------------*   \n",
    "fig, ax = plt.subplots()\n",
    "ax.plot(range(n_epochs),TrainLossVec)\n",
    "#ax.plot(range(n_epochs),TrainLossVec)\n",
    "ax.set(xlabel='Epoch', ylabel='Train Loss',title='Loss Over Training Phase') # include time//epoch//batch size in title\n",
    "ax.grid()\n"
   ]
  },
  {
   "cell_type": "code",
   "execution_count": 9,
   "metadata": {},
   "outputs": [
    {
     "name": "stdout",
     "output_type": "stream",
     "text": [
      "Epoch 0- Average Loss: 0.07223307587379633\n",
      "Epoch 1- Average Loss: 1.7622439267791368\n",
      "Epoch 2- Average Loss: 0.05241967883339088\n",
      "Epoch 3- Average Loss: 0.01736391540861086\n",
      "Epoch 4- Average Loss: 0.17450351885845938\n",
      "Epoch 5- Average Loss: 0.0449723053057938\n",
      "Epoch 6- Average Loss: 0.14970087840948915\n",
      "Epoch 7- Average Loss: 0.1610517490665485\n",
      "Epoch 8- Average Loss: 0.2156524081510908\n",
      "Epoch 9- Average Loss: 0.02994529564227365\n",
      "Epoch 10- Average Loss: 0.030104641219398112\n",
      "Epoch 11- Average Loss: 0.2208278523124485\n",
      "Epoch 12- Average Loss: 0.06507514592577192\n",
      "Epoch 13- Average Loss: 0.05835488446352875\n",
      "Epoch 14- Average Loss: 0.2268950419374121\n",
      "Epoch 15- Average Loss: 0.03778739616702131\n",
      "Epoch 16- Average Loss: 0.0562731674403844\n",
      "Epoch 17- Average Loss: 0.19788924236218638\n",
      "Epoch 18- Average Loss: 0.110913937192514\n",
      "Epoch 19- Average Loss: 0.037693545730083274\n",
      "Epoch 20- Average Loss: 0.06430660756757633\n",
      "Epoch 21- Average Loss: 0.09625672790765442\n",
      "Epoch 22- Average Loss: 0.13688304144714045\n",
      "Epoch 23- Average Loss: 0.12888645026658735\n",
      "Epoch 24- Average Loss: 0.1796507513289107\n",
      "Epoch 25- Average Loss: 0.13135032417042516\n",
      "Epoch 26- Average Loss: 0.08478185430800562\n",
      "Epoch 27- Average Loss: 0.14741460320079214\n",
      "Epoch 28- Average Loss: 0.08769339368494555\n",
      "Epoch 29- Average Loss: 0.06497314447791781\n",
      "Epoch 30- Average Loss: 0.122005707851428\n",
      "Epoch 31- Average Loss: 0.13331861388235766\n",
      "Epoch 32- Average Loss: 0.21211916324203095\n",
      "Epoch 33- Average Loss: 0.07184933091858121\n",
      "Epoch 34- Average Loss: 0.2141031286728317\n",
      "Epoch 35- Average Loss: 0.12396366830094467\n",
      "Epoch 36- Average Loss: 0.20342109736709743\n",
      "Epoch 37- Average Loss: 0.03842771876398487\n",
      "Epoch 38- Average Loss: 0.13873286750097347\n",
      "Epoch 39- Average Loss: 0.059329179077470914\n",
      "Epoch 40- Average Loss: 0.059401166841730246\n",
      "Epoch 41- Average Loss: 0.07301969589376332\n",
      "Epoch 42- Average Loss: 0.10209366865220845\n",
      "Epoch 43- Average Loss: 0.03612301613874506\n",
      "Epoch 44- Average Loss: 0.10562585222009482\n",
      "Epoch 45- Average Loss: 0.06021538106172047\n",
      "Epoch 46- Average Loss: 0.09070765652063137\n",
      "Epoch 47- Average Loss: 0.14551765917242973\n",
      "Epoch 48- Average Loss: 0.039491903282805996\n",
      "Epoch 49- Average Loss: 0.19294612024873545\n",
      "Epoch 50- Average Loss: 0.22443827549684187\n",
      "Epoch 51- Average Loss: 0.09181415907911866\n",
      "Epoch 52- Average Loss: 0.05148488920198727\n",
      "Epoch 53- Average Loss: 0.04195504219223671\n",
      "Epoch 54- Average Loss: 0.07815873367984578\n",
      "Epoch 55- Average Loss: 0.029969800338421657\n",
      "Epoch 56- Average Loss: 0.12756741374419306\n",
      "Epoch 57- Average Loss: 0.12307570758391194\n",
      "Epoch 58- Average Loss: 0.04461336461069643\n",
      "Epoch 59- Average Loss: 0.13166807531050762\n",
      "Epoch 60- Average Loss: 0.1646477277167422\n",
      "Epoch 61- Average Loss: 0.14586359802839727\n",
      "Epoch 62- Average Loss: 0.09690404079422275\n",
      "Epoch 63- Average Loss: 0.03169411393755466\n",
      "Epoch 64- Average Loss: 0.05854962232375116\n",
      "Epoch 65- Average Loss: 0.11666854915520314\n",
      "Epoch 66- Average Loss: 0.06820200028796071\n",
      "Epoch 67- Average Loss: 0.0347120705567025\n",
      "Epoch 68- Average Loss: 0.1744135933991191\n",
      "Epoch 69- Average Loss: 0.17778965221720883\n",
      "Epoch 70- Average Loss: 0.02781138514302858\n",
      "Epoch 71- Average Loss: 0.03850893131960375\n",
      "Epoch 72- Average Loss: 0.02711533187674316\n",
      "Epoch 73- Average Loss: 0.02920884414600988\n",
      "Epoch 74- Average Loss: 0.2048178725706555\n",
      "Epoch 75- Average Loss: 0.05869593556226086\n",
      "Epoch 76- Average Loss: 0.033697550349249435\n",
      "Epoch 77- Average Loss: 0.14596339577322234\n",
      "Epoch 78- Average Loss: 0.02648214834207181\n",
      "Epoch 79- Average Loss: 0.07672222290562447\n",
      "Epoch 80- Average Loss: 0.04858254313626617\n",
      "Epoch 81- Average Loss: 0.17845293306196192\n",
      "Epoch 82- Average Loss: 0.09524311448358216\n",
      "Epoch 83- Average Loss: 0.025568133261093924\n",
      "Epoch 84- Average Loss: 0.025161335660811954\n",
      "Epoch 85- Average Loss: 0.06677888636345918\n",
      "Epoch 86- Average Loss: 0.08985894108948575\n",
      "Epoch 87- Average Loss: 0.061255876093185106\n",
      "Epoch 88- Average Loss: 0.03988585113494468\n",
      "Epoch 89- Average Loss: 0.06520612559757533\n",
      "Epoch 90- Average Loss: 0.0245204219301561\n",
      "Epoch 91- Average Loss: 0.04078666121880214\n",
      "Epoch 92- Average Loss: 0.0261962908992065\n",
      "Epoch 93- Average Loss: 0.03006460412458343\n",
      "Epoch 94- Average Loss: 0.16302737312465285\n",
      "Epoch 95- Average Loss: 0.03408553806926619\n",
      "Epoch 96- Average Loss: 0.054214767088630676\n",
      "Epoch 97- Average Loss: 0.08102509389307212\n",
      "Epoch 98- Average Loss: 0.0468407784788177\n",
      "Epoch 99- Average Loss: 0.02527339676317705\n",
      "Epoch 100- Average Loss: 0.11382498220969064\n",
      "Epoch 101- Average Loss: 0.030283773309332865\n",
      "Epoch 102- Average Loss: 0.08516302258638607\n",
      "Epoch 103- Average Loss: 0.07273677959695657\n",
      "Epoch 104- Average Loss: 0.043490685047782446\n",
      "Epoch 105- Average Loss: 0.07037879716990565\n",
      "Epoch 106- Average Loss: 0.15836982513082298\n",
      "Epoch 107- Average Loss: 0.13298332213360267\n",
      "Epoch 108- Average Loss: 0.04913022294150758\n",
      "Epoch 109- Average Loss: 0.04531858032870232\n",
      "Epoch 110- Average Loss: 0.02323337810288695\n",
      "Epoch 111- Average Loss: 0.1734815285380058\n",
      "Epoch 112- Average Loss: 0.02421610440661527\n",
      "Epoch 113- Average Loss: 0.05261962547255348\n",
      "Epoch 114- Average Loss: 0.024516297169173078\n",
      "Epoch 115- Average Loss: 0.1165641749218806\n",
      "Epoch 116- Average Loss: 0.03355704638584441\n",
      "Epoch 117- Average Loss: 0.03209381153847931\n",
      "Epoch 118- Average Loss: 0.02422132181800919\n",
      "Epoch 119- Average Loss: 0.025201477657347572\n",
      "Epoch 120- Average Loss: 0.03764963223051927\n",
      "Epoch 121- Average Loss: 0.035806081464748604\n",
      "Epoch 122- Average Loss: 0.026552466005183288\n",
      "Epoch 123- Average Loss: 0.033865242353012845\n",
      "Epoch 124- Average Loss: 0.16007838706245225\n",
      "Epoch 125- Average Loss: 0.06793785252589912\n",
      "Epoch 126- Average Loss: 0.04105767095543705\n",
      "Epoch 127- Average Loss: 0.06731651700210468\n",
      "Epoch 128- Average Loss: 0.08027685513222273\n",
      "Epoch 129- Average Loss: 0.02449495352655067\n",
      "Epoch 130- Average Loss: 0.0791334853965806\n",
      "Epoch 131- Average Loss: 0.12949445624055733\n",
      "Epoch 132- Average Loss: 0.13178514338181474\n",
      "Epoch 133- Average Loss: 0.05070784696759393\n",
      "Epoch 134- Average Loss: 0.024441204653637427\n",
      "Epoch 135- Average Loss: 0.12424422180091899\n",
      "Epoch 136- Average Loss: 0.05171061453317651\n",
      "Epoch 137- Average Loss: 0.023800559418011777\n",
      "Epoch 138- Average Loss: 0.08886948827429617\n",
      "Epoch 139- Average Loss: 0.02160871156442646\n",
      "Epoch 140- Average Loss: 0.02172165083923952\n",
      "Epoch 141- Average Loss: 0.022855292039695593\n",
      "Epoch 142- Average Loss: 0.03416026585914175\n",
      "Epoch 143- Average Loss: 0.14029851352307304\n",
      "Epoch 144- Average Loss: 0.0282738049268322\n",
      "Epoch 145- Average Loss: 0.10321054340307084\n",
      "Epoch 146- Average Loss: 0.0750886965851869\n",
      "Epoch 147- Average Loss: 0.02306650607579479\n",
      "Epoch 148- Average Loss: 0.0686736926796267\n",
      "Epoch 149- Average Loss: 0.03491258659351807\n",
      "Epoch 150- Average Loss: 0.12908379532747438\n",
      "Epoch 151- Average Loss: 0.03025747862425206\n",
      "Epoch 152- Average Loss: 0.026320190278456505\n",
      "Epoch 153- Average Loss: 0.08049862315972539\n",
      "Epoch 154- Average Loss: 0.026604825060992272\n",
      "Epoch 155- Average Loss: 0.027301349999375255\n",
      "Epoch 156- Average Loss: 0.02271575723859629\n",
      "Epoch 157- Average Loss: 0.10005040367420205\n",
      "Epoch 158- Average Loss: 0.07127825028212384\n",
      "Epoch 159- Average Loss: 0.03400655862927028\n",
      "Epoch 160- Average Loss: 0.024139328718057882\n",
      "Epoch 161- Average Loss: 0.12244718649553639\n",
      "Epoch 162- Average Loss: 0.13625170322252647\n",
      "Epoch 163- Average Loss: 0.02174645697109428\n",
      "Epoch 164- Average Loss: 0.024135384727588572\n",
      "Epoch 165- Average Loss: 0.022642529444034117\n",
      "Epoch 166- Average Loss: 0.04518199482830983\n",
      "Epoch 167- Average Loss: 0.03106797132008171\n",
      "Epoch 168- Average Loss: 0.023723565164144318\n",
      "Epoch 169- Average Loss: 0.10065689956782832\n",
      "Epoch 170- Average Loss: 0.021332454278286048\n",
      "Epoch 171- Average Loss: 0.021563952244502704\n",
      "Epoch 172- Average Loss: 0.032374069048809365\n",
      "Epoch 173- Average Loss: 0.020147661483351793\n",
      "Epoch 174- Average Loss: 0.1260910582178141\n",
      "Epoch 175- Average Loss: 0.024980937857791114\n",
      "Epoch 176- Average Loss: 0.03474910386504759\n",
      "Epoch 177- Average Loss: 0.020439423300873498\n",
      "Epoch 178- Average Loss: 0.09197673482108511\n",
      "Epoch 179- Average Loss: 0.02047164649383081\n",
      "Epoch 180- Average Loss: 0.021583022970128235\n",
      "Epoch 181- Average Loss: 0.021251336651708582\n",
      "Epoch 182- Average Loss: 0.04099239367809252\n",
      "Epoch 183- Average Loss: 0.04055898639853455\n",
      "Epoch 184- Average Loss: 0.02245284759043241\n",
      "Epoch 185- Average Loss: 0.023780951464963448\n",
      "Epoch 186- Average Loss: 0.0675040007079516\n",
      "Epoch 187- Average Loss: 0.033964729641964675\n",
      "Epoch 188- Average Loss: 0.022211334762347257\n",
      "Epoch 189- Average Loss: 0.023246529036055112\n",
      "Epoch 190- Average Loss: 0.0709360865767302\n",
      "Epoch 191- Average Loss: 0.02170603054808808\n",
      "Epoch 192- Average Loss: 0.021102836177240382\n",
      "Epoch 193- Average Loss: 0.09703860583437271\n",
      "Epoch 194- Average Loss: 0.08752658911927416\n",
      "Epoch 195- Average Loss: 0.08841883761699736\n",
      "Epoch 196- Average Loss: 0.024433024522085324\n",
      "Epoch 197- Average Loss: 0.025690173584344864\n",
      "Epoch 198- Average Loss: 0.022388221383455757\n",
      "Epoch 199- Average Loss: 0.020734799192674232\n",
      "Epoch 200- Average Loss: 0.021699535071786645\n",
      "Epoch 201- Average Loss: 0.05495745464452448\n",
      "Epoch 202- Average Loss: 0.02186579179968429\n",
      "Epoch 203- Average Loss: 0.04352813518658192\n",
      "Epoch 204- Average Loss: 0.027088198807656068\n",
      "Epoch 205- Average Loss: 0.021283518037809045\n",
      "Epoch 206- Average Loss: 0.02130098735991196\n",
      "Epoch 207- Average Loss: 0.024205641210342705\n",
      "Epoch 208- Average Loss: 0.02758185122484507\n",
      "Epoch 209- Average Loss: 0.02192917166080006\n",
      "Epoch 210- Average Loss: 0.020671083331012263\n",
      "Epoch 211- Average Loss: 0.07817566983367077\n",
      "Epoch 212- Average Loss: 0.020424601670959434\n",
      "Epoch 213- Average Loss: 0.03735116802092143\n",
      "Epoch 214- Average Loss: 0.029722460096309158\n"
     ]
    },
    {
     "ename": "ValueError",
     "evalue": "x and y must have same first dimension, but have shapes (80,) and (215,)",
     "output_type": "error",
     "traceback": [
      "\u001b[0;31m---------------------------------------------------------------------------\u001b[0m",
      "\u001b[0;31mValueError\u001b[0m                                Traceback (most recent call last)",
      "\u001b[0;32m<ipython-input-9-d70aa225d0ce>\u001b[0m in \u001b[0;36m<module>\u001b[0;34m()\u001b[0m\n\u001b[1;32m     28\u001b[0m \u001b[0;31m# *--------------- Plot Test Loss Results -------------------*\u001b[0m\u001b[0;34m\u001b[0m\u001b[0;34m\u001b[0m\u001b[0m\n\u001b[1;32m     29\u001b[0m \u001b[0mfig\u001b[0m\u001b[0;34m,\u001b[0m \u001b[0max\u001b[0m \u001b[0;34m=\u001b[0m \u001b[0mplt\u001b[0m\u001b[0;34m.\u001b[0m\u001b[0msubplots\u001b[0m\u001b[0;34m(\u001b[0m\u001b[0;34m)\u001b[0m\u001b[0;34m\u001b[0m\u001b[0m\n\u001b[0;32m---> 30\u001b[0;31m \u001b[0max\u001b[0m\u001b[0;34m.\u001b[0m\u001b[0mplot\u001b[0m\u001b[0;34m(\u001b[0m\u001b[0mrange\u001b[0m\u001b[0;34m(\u001b[0m\u001b[0mn_epochs\u001b[0m\u001b[0;34m)\u001b[0m\u001b[0;34m,\u001b[0m\u001b[0mTestLossVec\u001b[0m\u001b[0;34m)\u001b[0m\u001b[0;34m\u001b[0m\u001b[0m\n\u001b[0m\u001b[1;32m     31\u001b[0m \u001b[0max\u001b[0m\u001b[0;34m.\u001b[0m\u001b[0mset\u001b[0m\u001b[0;34m(\u001b[0m\u001b[0mxlabel\u001b[0m\u001b[0;34m=\u001b[0m\u001b[0;34m'Epoch'\u001b[0m\u001b[0;34m,\u001b[0m \u001b[0mylabel\u001b[0m\u001b[0;34m=\u001b[0m\u001b[0;34m'Test Loss'\u001b[0m\u001b[0;34m,\u001b[0m\u001b[0mtitle\u001b[0m\u001b[0;34m=\u001b[0m\u001b[0;34m'Loss Over Testing Phase'\u001b[0m\u001b[0;34m)\u001b[0m \u001b[0;31m# include time//epoch//batch size in title\u001b[0m\u001b[0;34m\u001b[0m\u001b[0m\n\u001b[1;32m     32\u001b[0m \u001b[0max\u001b[0m\u001b[0;34m.\u001b[0m\u001b[0mgrid\u001b[0m\u001b[0;34m(\u001b[0m\u001b[0;34m)\u001b[0m\u001b[0;34m\u001b[0m\u001b[0m\n",
      "\u001b[0;32m~/desktop/tensorflow_update/lib/python3.6/site-packages/matplotlib/__init__.py\u001b[0m in \u001b[0;36minner\u001b[0;34m(ax, *args, **kwargs)\u001b[0m\n\u001b[1;32m   1853\u001b[0m                         \u001b[0;34m\"the Matplotlib list!)\"\u001b[0m \u001b[0;34m%\u001b[0m \u001b[0;34m(\u001b[0m\u001b[0mlabel_namer\u001b[0m\u001b[0;34m,\u001b[0m \u001b[0mfunc\u001b[0m\u001b[0;34m.\u001b[0m\u001b[0m__name__\u001b[0m\u001b[0;34m)\u001b[0m\u001b[0;34m,\u001b[0m\u001b[0;34m\u001b[0m\u001b[0m\n\u001b[1;32m   1854\u001b[0m                         RuntimeWarning, stacklevel=2)\n\u001b[0;32m-> 1855\u001b[0;31m             \u001b[0;32mreturn\u001b[0m \u001b[0mfunc\u001b[0m\u001b[0;34m(\u001b[0m\u001b[0max\u001b[0m\u001b[0;34m,\u001b[0m \u001b[0;34m*\u001b[0m\u001b[0margs\u001b[0m\u001b[0;34m,\u001b[0m \u001b[0;34m**\u001b[0m\u001b[0mkwargs\u001b[0m\u001b[0;34m)\u001b[0m\u001b[0;34m\u001b[0m\u001b[0m\n\u001b[0m\u001b[1;32m   1856\u001b[0m \u001b[0;34m\u001b[0m\u001b[0m\n\u001b[1;32m   1857\u001b[0m         inner.__doc__ = _add_data_doc(inner.__doc__,\n",
      "\u001b[0;32m~/desktop/tensorflow_update/lib/python3.6/site-packages/matplotlib/axes/_axes.py\u001b[0m in \u001b[0;36mplot\u001b[0;34m(self, *args, **kwargs)\u001b[0m\n\u001b[1;32m   1525\u001b[0m         \u001b[0mkwargs\u001b[0m \u001b[0;34m=\u001b[0m \u001b[0mcbook\u001b[0m\u001b[0;34m.\u001b[0m\u001b[0mnormalize_kwargs\u001b[0m\u001b[0;34m(\u001b[0m\u001b[0mkwargs\u001b[0m\u001b[0;34m,\u001b[0m \u001b[0m_alias_map\u001b[0m\u001b[0;34m)\u001b[0m\u001b[0;34m\u001b[0m\u001b[0m\n\u001b[1;32m   1526\u001b[0m \u001b[0;34m\u001b[0m\u001b[0m\n\u001b[0;32m-> 1527\u001b[0;31m         \u001b[0;32mfor\u001b[0m \u001b[0mline\u001b[0m \u001b[0;32min\u001b[0m \u001b[0mself\u001b[0m\u001b[0;34m.\u001b[0m\u001b[0m_get_lines\u001b[0m\u001b[0;34m(\u001b[0m\u001b[0;34m*\u001b[0m\u001b[0margs\u001b[0m\u001b[0;34m,\u001b[0m \u001b[0;34m**\u001b[0m\u001b[0mkwargs\u001b[0m\u001b[0;34m)\u001b[0m\u001b[0;34m:\u001b[0m\u001b[0;34m\u001b[0m\u001b[0m\n\u001b[0m\u001b[1;32m   1528\u001b[0m             \u001b[0mself\u001b[0m\u001b[0;34m.\u001b[0m\u001b[0madd_line\u001b[0m\u001b[0;34m(\u001b[0m\u001b[0mline\u001b[0m\u001b[0;34m)\u001b[0m\u001b[0;34m\u001b[0m\u001b[0m\n\u001b[1;32m   1529\u001b[0m             \u001b[0mlines\u001b[0m\u001b[0;34m.\u001b[0m\u001b[0mappend\u001b[0m\u001b[0;34m(\u001b[0m\u001b[0mline\u001b[0m\u001b[0;34m)\u001b[0m\u001b[0;34m\u001b[0m\u001b[0m\n",
      "\u001b[0;32m~/desktop/tensorflow_update/lib/python3.6/site-packages/matplotlib/axes/_base.py\u001b[0m in \u001b[0;36m_grab_next_args\u001b[0;34m(self, *args, **kwargs)\u001b[0m\n\u001b[1;32m    404\u001b[0m                 \u001b[0mthis\u001b[0m \u001b[0;34m+=\u001b[0m \u001b[0margs\u001b[0m\u001b[0;34m[\u001b[0m\u001b[0;36m0\u001b[0m\u001b[0;34m]\u001b[0m\u001b[0;34m,\u001b[0m\u001b[0;34m\u001b[0m\u001b[0m\n\u001b[1;32m    405\u001b[0m                 \u001b[0margs\u001b[0m \u001b[0;34m=\u001b[0m \u001b[0margs\u001b[0m\u001b[0;34m[\u001b[0m\u001b[0;36m1\u001b[0m\u001b[0;34m:\u001b[0m\u001b[0;34m]\u001b[0m\u001b[0;34m\u001b[0m\u001b[0m\n\u001b[0;32m--> 406\u001b[0;31m             \u001b[0;32mfor\u001b[0m \u001b[0mseg\u001b[0m \u001b[0;32min\u001b[0m \u001b[0mself\u001b[0m\u001b[0;34m.\u001b[0m\u001b[0m_plot_args\u001b[0m\u001b[0;34m(\u001b[0m\u001b[0mthis\u001b[0m\u001b[0;34m,\u001b[0m \u001b[0mkwargs\u001b[0m\u001b[0;34m)\u001b[0m\u001b[0;34m:\u001b[0m\u001b[0;34m\u001b[0m\u001b[0m\n\u001b[0m\u001b[1;32m    407\u001b[0m                 \u001b[0;32myield\u001b[0m \u001b[0mseg\u001b[0m\u001b[0;34m\u001b[0m\u001b[0m\n\u001b[1;32m    408\u001b[0m \u001b[0;34m\u001b[0m\u001b[0m\n",
      "\u001b[0;32m~/desktop/tensorflow_update/lib/python3.6/site-packages/matplotlib/axes/_base.py\u001b[0m in \u001b[0;36m_plot_args\u001b[0;34m(self, tup, kwargs)\u001b[0m\n\u001b[1;32m    381\u001b[0m             \u001b[0mx\u001b[0m\u001b[0;34m,\u001b[0m \u001b[0my\u001b[0m \u001b[0;34m=\u001b[0m \u001b[0mindex_of\u001b[0m\u001b[0;34m(\u001b[0m\u001b[0mtup\u001b[0m\u001b[0;34m[\u001b[0m\u001b[0;34m-\u001b[0m\u001b[0;36m1\u001b[0m\u001b[0;34m]\u001b[0m\u001b[0;34m)\u001b[0m\u001b[0;34m\u001b[0m\u001b[0m\n\u001b[1;32m    382\u001b[0m \u001b[0;34m\u001b[0m\u001b[0m\n\u001b[0;32m--> 383\u001b[0;31m         \u001b[0mx\u001b[0m\u001b[0;34m,\u001b[0m \u001b[0my\u001b[0m \u001b[0;34m=\u001b[0m \u001b[0mself\u001b[0m\u001b[0;34m.\u001b[0m\u001b[0m_xy_from_xy\u001b[0m\u001b[0;34m(\u001b[0m\u001b[0mx\u001b[0m\u001b[0;34m,\u001b[0m \u001b[0my\u001b[0m\u001b[0;34m)\u001b[0m\u001b[0;34m\u001b[0m\u001b[0m\n\u001b[0m\u001b[1;32m    384\u001b[0m \u001b[0;34m\u001b[0m\u001b[0m\n\u001b[1;32m    385\u001b[0m         \u001b[0;32mif\u001b[0m \u001b[0mself\u001b[0m\u001b[0;34m.\u001b[0m\u001b[0mcommand\u001b[0m \u001b[0;34m==\u001b[0m \u001b[0;34m'plot'\u001b[0m\u001b[0;34m:\u001b[0m\u001b[0;34m\u001b[0m\u001b[0m\n",
      "\u001b[0;32m~/desktop/tensorflow_update/lib/python3.6/site-packages/matplotlib/axes/_base.py\u001b[0m in \u001b[0;36m_xy_from_xy\u001b[0;34m(self, x, y)\u001b[0m\n\u001b[1;32m    240\u001b[0m         \u001b[0;32mif\u001b[0m \u001b[0mx\u001b[0m\u001b[0;34m.\u001b[0m\u001b[0mshape\u001b[0m\u001b[0;34m[\u001b[0m\u001b[0;36m0\u001b[0m\u001b[0;34m]\u001b[0m \u001b[0;34m!=\u001b[0m \u001b[0my\u001b[0m\u001b[0;34m.\u001b[0m\u001b[0mshape\u001b[0m\u001b[0;34m[\u001b[0m\u001b[0;36m0\u001b[0m\u001b[0;34m]\u001b[0m\u001b[0;34m:\u001b[0m\u001b[0;34m\u001b[0m\u001b[0m\n\u001b[1;32m    241\u001b[0m             raise ValueError(\"x and y must have same first dimension, but \"\n\u001b[0;32m--> 242\u001b[0;31m                              \"have shapes {} and {}\".format(x.shape, y.shape))\n\u001b[0m\u001b[1;32m    243\u001b[0m         \u001b[0;32mif\u001b[0m \u001b[0mx\u001b[0m\u001b[0;34m.\u001b[0m\u001b[0mndim\u001b[0m \u001b[0;34m>\u001b[0m \u001b[0;36m2\u001b[0m \u001b[0;32mor\u001b[0m \u001b[0my\u001b[0m\u001b[0;34m.\u001b[0m\u001b[0mndim\u001b[0m \u001b[0;34m>\u001b[0m \u001b[0;36m2\u001b[0m\u001b[0;34m:\u001b[0m\u001b[0;34m\u001b[0m\u001b[0m\n\u001b[1;32m    244\u001b[0m             raise ValueError(\"x and y can be no greater than 2-D, but have \"\n",
      "\u001b[0;31mValueError\u001b[0m: x and y must have same first dimension, but have shapes (80,) and (215,)"
     ]
    },
    {
     "data": {
      "image/png": "[encoded data removed]",
      "text/plain": [
       "<Figure size 432x288 with 1 Axes>"
      ]
     },
     "metadata": {},
     "output_type": "display_data"
    }
   ],
   "source": [
    "# Test model and record each instances' 2D - latent space\n",
    "latent_data = []\n",
    "TestLossVec = []\n",
    "test_size = 0.2\n",
    "batch_size_test = 1 # just go through cells 1 by 1 and record 2D lat-space each time\n",
    "n_epochs_test = int(np.floor(cellcount*test_size))\n",
    "avg_loss_test = 0\n",
    "\n",
    "with tf.Session() as sess:\n",
    "    sess.run(init)\n",
    "    for epoch in range(n_epochs_test):\n",
    "\n",
    "            X_test_batch, y_batch = batchObj.test_batch(batch_size=batch_size_test)\n",
    "            _, iter_loss = sess.run([training_op, loss], feed_dict={X: X_test_batch})\n",
    "            \n",
    "            latent_space = sess.run('weights2_encoded:0')\n",
    "            #latent_space2 = sess.run('weights2_encoded_2:0')\n",
    "            latent_data = np.append(latent_data,latent_space)\n",
    "            #latent_data2 = np.append(latent_data2,latent_space2)\n",
    "            \n",
    "            avg_loss_test += iter_loss\n",
    "            avg_loss_test = avg_loss_test/n_epochs_test\n",
    "            \n",
    "            TestLossVec = np.append(TestLossVec,avg_loss_test)     \n",
    "            print('Epoch %s- Average Loss: %s' % (epoch,avg_loss_test))\n",
    "        \n",
    "    \n",
    "# *--------------- Plot Test Loss Results -------------------*   \n",
    "fig, ax = plt.subplots()\n",
    "ax.plot(range(n_epochs_test),TestLossVec)\n",
    "ax.set(xlabel='Epoch', ylabel='Test Loss',title='Loss Over Testing Phase') # include time//epoch//batch size in title\n",
    "ax.grid()\n"
   ]
  },
  {
   "cell_type": "code",
   "execution_count": 14,
   "metadata": {},
   "outputs": [
    {
     "name": "stdout",
     "output_type": "stream",
     "text": [
      "(129000,)\n",
      "[<tf.Variable 'weights1:0' shape=(26594, 300) dtype=float32_ref>, <tf.Variable 'weights2_encoded:0' shape=(300, 2) dtype=float32_ref>, <tf.Variable 'biases1:0' shape=(300,) dtype=float32_ref>, <tf.Variable 'biases2:0' shape=(2,) dtype=float32_ref>, <tf.Variable 'biases3:0' shape=(300,) dtype=float32_ref>, <tf.Variable 'biases4:0' shape=(26594,) dtype=float32_ref>]\n",
      "600.0\n"
     ]
    }
   ],
   "source": [
    "print(np.shape(latent_data))\n",
    "print(tf.trainable_variables())\n",
    "c = 129000/215\n",
    "print(c)\n"
   ]
  },
  {
   "cell_type": "code",
   "execution_count": null,
   "metadata": {},
   "outputs": [],
   "source": []
  },
  {
   "cell_type": "code",
   "execution_count": 32,
   "metadata": {},
   "outputs": [
    {
     "name": "stdout",
     "output_type": "stream",
     "text": [
      "(300, 2)\n"
     ]
    }
   ],
   "source": [
    "FPATH = '/Users/dawnstear/desktop/chop_cellpred/newimg.pdf'\n",
    "#path = os.path.join(n_epochs+arch+time_elapsed)\n",
    "#fig.savefig(FPATH)\n",
    "print(np.shape(latent_space1))"
   ]
  },
  {
   "cell_type": "code",
   "execution_count": 21,
   "metadata": {},
   "outputs": [
    {
     "data": {
      "text/plain": [
       "<matplotlib.collections.PathCollection at 0x120da49b0>"
      ]
     },
     "execution_count": 21,
     "metadata": {},
     "output_type": "execute_result"
    },
    {
     "data": {
      "image/png": "[encoded data removed]",
      "text/plain": [
       "<Figure size 432x288 with 1 Axes>"
      ]
     },
     "metadata": {},
     "output_type": "display_data"
    },
    {
     "data": {
      "text/plain": [
       "<Figure size 7200x7200 with 0 Axes>"
      ]
     },
     "metadata": {},
     "output_type": "display_data"
    }
   ],
   "source": [
    "fig, ax = plt.subplots()\n",
    "figure(figsize=(100, 100))\n",
    "#subplot(121)\n",
    "#ax.set(xlabel='t-SNE 1', ylabel='t_SNE 2',title='t-SNE: 1078 cells with 10 subtypes')\n",
    "#ax.legend(y)\n",
    "ax.scatter(latent_space[:, 0], latent_space[:, 1]) #,c=y_batch[0:301])"
   ]
  },
  {
   "cell_type": "code",
   "execution_count": 26,
   "metadata": {},
   "outputs": [
    {
     "name": "stdout",
     "output_type": "stream",
     "text": [
      "11.152708768844604\n"
     ]
    }
   ],
   "source": [
    "# compare different latspace sizes\n",
    "\n",
    "\n",
    "######### CLUSTERING ###########\n",
    "AggClust = AgglomerativeClustering(n_clusters=4,linkage='ward')\n",
    "t = time.time()\n",
    "AggClust.fit(X_train)\n",
    "#number_of_clusters = len(np.unique(labels))\n",
    "e = time.time()\n",
    "print(e-t)\n",
    "\n"
   ]
  },
  {
   "cell_type": "code",
   "execution_count": 29,
   "metadata": {},
   "outputs": [
    {
     "name": "stdout",
     "output_type": "stream",
     "text": [
      "AgglomerativeClustering(affinity='euclidean', compute_full_tree='auto',\n",
      "            connectivity=None, linkage='ward', memory=None, n_clusters=4,\n",
      "            pooling_func=<function mean at 0x10b858a60>)\n"
     ]
    }
   ],
   "source": [
    "print(AggClust)"
   ]
  },
  {
   "cell_type": "code",
   "execution_count": null,
   "metadata": {},
   "outputs": [],
   "source": []
  }
 ],
 "metadata": {
  "kernelspec": {
   "display_name": "Python 3",
   "language": "python",
   "name": "python3"
  },
  "language_info": {
   "codemirror_mode": {
    "name": "ipython",
    "version": 3
   },
   "file_extension": ".py",
   "mimetype": "text/x-python",
   "name": "python",
   "nbconvert_exporter": "python",
   "pygments_lexer": "ipython3",
   "version": "3.6.4"
  }
 },
 "nbformat": 4,
 "nbformat_minor": 2
}
