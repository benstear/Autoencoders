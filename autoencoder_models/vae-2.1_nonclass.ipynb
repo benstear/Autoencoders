{
 "cells": [
  {
   "cell_type": "code",
   "execution_count": 1,
   "metadata": {},
   "outputs": [
    {
     "name": "stderr",
     "output_type": "stream",
     "text": [
      "/Users/dawnstear/desktop/tensorflow_update/lib/python3.6/importlib/_bootstrap.py:219: RuntimeWarning: numpy.dtype size changed, may indicate binary incompatibility. Expected 96, got 88\n",
      "  return f(*args, **kwds)\n",
      "/Users/dawnstear/desktop/tensorflow_update/lib/python3.6/importlib/_bootstrap.py:219: RuntimeWarning: numpy.dtype size changed, may indicate binary incompatibility. Expected 96, got 88\n",
      "  return f(*args, **kwds)\n"
     ]
    }
   ],
   "source": [
    "import numpy as np\n",
    "import tensorflow as tf\n",
    "from tensorflow.contrib.slim import fully_connected as fc\n",
    "import matplotlib.pyplot as plt \n",
    "import pandas as pd\n",
    "import utils\n",
    "import matplotlib.pyplot as plt\n",
    "#import VAE\n",
    "#import scedar as sce\n",
    "\n",
    "try: \n",
    "    data,scdata\n",
    "except:\n",
    "    data  =  pd.read_csv('/Users/dawnstear/desktop/chop_cellpred/data.csv')\n",
    "    sclabels = data['Labels']\n",
    "    scdata = data.drop(['Labels','TYPE'],axis=1)\n",
    "\n",
    "DataObj = utils.Data(scdata,sclabels,drop_remainder=True)  \n",
    "\n",
    "assert not np.any(np.isnan(scdata))\n",
    "assert not np.any(np.isnan(sclabels))\n",
    "\n",
    "maxval = np.amax(scdata)\n",
    "scdata = (scdata+1e-7)/maxval\n",
    "#print(np.shape(scdata))\n",
    "#maxval = np.amax(scdata)\n",
    "#scdata = np.divide(scdata,maxval)\n",
    "\n"
   ]
  },
  {
   "cell_type": "code",
   "execution_count": 2,
   "metadata": {},
   "outputs": [],
   "source": [
    "\n",
    "n_cells, n_dims= np.shape(scdata)\n",
    "#from tensorflow.examples.tutorials.mnist import input_data\n",
    "#mnist = input_data.read_data_sets('MNIST_data', one_hot=True)\n",
    "num_sample = n_cells #mnist.train.num_examples\n",
    "input_dim = n_dims   #mnist.train.images[0].shape[0]\n",
    "\n",
    "#----------------------------------------------------#\n",
    "class VariantionalAutoencoder(object):\n",
    "\n",
    "    def __init__(self, learning_rate=1e-3, batch_size=100, n_z=10):\n",
    "        self.learning_rate = learning_rate\n",
    "        self.batch_size = batch_size\n",
    "        self.n_z = n_z\n",
    "        self.build()\n",
    "        self.sess = tf.InteractiveSession()\n",
    "        self.sess.run(tf.global_variables_initializer())\n",
    "\n",
    "    # Build the netowrk and the loss functions\n",
    "    def build(self):\n",
    "        self.x = tf.placeholder(name='x', dtype=tf.float32, shape=[None, input_dim])\n",
    "        n_hidden_f1 = 512\n",
    "        n_hidden_f2 = 384\n",
    "        n_hidden_f3 = 256\n",
    "        \n",
    "        # Encode\n",
    "        # x -> z_mean, z_sigma -> z\n",
    "        f1 = fc(self.x, n_hidden_f1, scope='enc_fc1', activation_fn=tf.nn.elu,reuse=tf.AUTO_REUSE) # AUTOREUSE\n",
    "        f2 = fc(f1, n_hidden_f2, scope='enc_fc2', activation_fn=tf.nn.elu,reuse=tf.AUTO_REUSE)\n",
    "        f3 = fc(f2, n_hidden_f3, scope='enc_fc3', activation_fn=tf.nn.elu,reuse=tf.AUTO_REUSE)\n",
    "        \n",
    "        self.z_mu = fc(f3, self.n_z, scope='enc_fc4_mu', activation_fn=None,reuse=tf.AUTO_REUSE)\n",
    "        self.z_log_sigma_sq = fc(f3, self.n_z, scope='enc_fc4_sigma',reuse=tf.AUTO_REUSE, \n",
    "                                 activation_fn=None)\n",
    "        \n",
    "        eps = tf.random_normal(shape=tf.shape(self.z_log_sigma_sq),\n",
    "                               mean=0, stddev=1, dtype=tf.float32)\n",
    "        self.z = self.z_mu + tf.sqrt(tf.exp(self.z_log_sigma_sq)) * eps\n",
    "\n",
    "        # Decode\n",
    "        # z -> x_hat\n",
    "        g1 = fc(self.z, n_hidden_f3, scope='dec_fc1', activation_fn=tf.nn.elu,reuse=tf.AUTO_REUSE)\n",
    "        g2 = fc(g1, n_hidden_f2, scope='dec_fc2', activation_fn=tf.nn.elu,reuse=tf.AUTO_REUSE)\n",
    "        g3 = fc(g2, n_hidden_f1, scope='dec_fc3', activation_fn=tf.nn.elu,reuse=tf.AUTO_REUSE)\n",
    "        self.x_hat = fc(g3, input_dim, scope='dec_fc4', activation_fn=tf.sigmoid,reuse=tf.AUTO_REUSE)\n",
    "\n",
    "        # Loss: Reconstruction loss: Minimize the cross-entropy loss\n",
    "        # H(x, x_hat) = -\\Sigma x*log(x_hat) + (1-x)*log(1-x_hat)\n",
    "        epsilon = 1e-10\n",
    "        recon_loss = -tf.reduce_sum(\n",
    "            self.x * tf.log(epsilon+self.x_hat) + (1-self.x) * tf.log(epsilon+1-self.x_hat), \n",
    "            axis=1)\n",
    "        self.recon_loss = tf.reduce_mean(recon_loss)\n",
    "\n",
    "        # Latent loss\n",
    "        # Kullback Leibler divergence: measure the difference between two distributions\n",
    "        # Here we measure the divergence between the latent distribution and N(0, 1)\n",
    "        latent_loss = -0.5 * tf.reduce_sum(\n",
    "            1 + self.z_log_sigma_sq - tf.square(self.z_mu) - tf.exp(self.z_log_sigma_sq), axis=1)\n",
    "        self.latent_loss = tf.reduce_mean(latent_loss)\n",
    "        self.total_loss = tf.reduce_mean(recon_loss + latent_loss)\n",
    "        self.train_op = tf.train.RMSPropOptimizer(\n",
    "            learning_rate=self.learning_rate).minimize(self.total_loss)\n",
    "        return\n",
    "\n",
    "    # Execute the forward and the backward pass\n",
    "    def run_single_step(self, x):\n",
    "        _, loss, recon_loss, latent_loss = self.sess.run(\n",
    "            [self.train_op, self.total_loss, self.recon_loss, self.latent_loss],\n",
    "            feed_dict={self.x: x}\n",
    "        )\n",
    "        return loss, recon_loss, latent_loss\n",
    "    # x -> x_hat\n",
    "    def reconstructor(self, x):\n",
    "        x_hat = self.sess.run(self.x_hat, feed_dict={self.x: x})\n",
    "        return x_hat\n",
    "    # z -> x\n",
    "    def generator(self, z):\n",
    "        x_hat = self.sess.run(self.x_hat, feed_dict={self.z: z})\n",
    "        return x_hat\n",
    "    # x -> z\n",
    "    def transformer(self, x):\n",
    "        z = self.sess.run(self.z, feed_dict={self.x: x})\n",
    "        return z\n",
    "    \n",
    "#-------------------------------------#\n",
    "        \n",
    "def trainer(learning_rate=1e-3, batch_size=100, num_epoch=75, n_z=10):\n",
    "    \n",
    "    model = VariantionalAutoencoder(learning_rate=learning_rate,\n",
    "                                    batch_size=batch_size, n_z=n_z)\n",
    "    lossvec = []\n",
    "    recon_lossvec = []\n",
    "    latent_lossvec = []\n",
    "    \n",
    "    for epoch in range(num_epoch):\n",
    "        for iter in range(num_sample // batch_size):\n",
    "            # Obtian a batch\n",
    "            batch = DataObj.train_batch(batch_size=batch_size)\n",
    "            \n",
    "            # Execute the forward and the backward pass and report computed losses\n",
    "            loss, recon_loss, latent_loss = model.run_single_step(batch[0])\n",
    "            \n",
    "        lossvec = np.append(lossvec,loss)\n",
    "        recon_lossvec = np.append(recon_lossvec,recon_loss)\n",
    "        latent_lossvec = np.append(latent_lossvec,latent_loss)   \n",
    "        \n",
    "        if epoch % 5 == 0:\n",
    "            print('[Epoch {}] Loss: {}, Recon loss: {}, Latent loss: {}'.format(\n",
    "                epoch, loss, recon_loss, latent_loss))\n",
    "    \n",
    "    # *--------------- Plot Results -------------------*   \n",
    "    fig, ax = plt.subplots()\n",
    "    ax.plot(range(num_epoch),lossvec)\n",
    "    ax.plot(range(num_epoch),recon_lossvec)\n",
    "    ax.plot(range(num_epoch),latent_lossvec)\n",
    "    ax.set(xlabel='Epoch', ylabel='Loss',title='Loss Over Training Phase') # include time//epoch//batch size in title\n",
    "    ax.grid()\n",
    "    print('Done!')\n",
    "    return model\n",
    "\n"
   ]
  },
  {
   "cell_type": "code",
   "execution_count": 3,
   "metadata": {},
   "outputs": [
    {
     "name": "stdout",
     "output_type": "stream",
     "text": [
      "[Epoch 0] Loss: nan, Recon loss: nan, Latent loss: nan\n",
      "[Epoch 5] Loss: nan, Recon loss: nan, Latent loss: nan\n",
      "[Epoch 10] Loss: nan, Recon loss: nan, Latent loss: nan\n",
      "[Epoch 15] Loss: nan, Recon loss: nan, Latent loss: nan\n",
      "[Epoch 20] Loss: nan, Recon loss: nan, Latent loss: nan\n",
      "[Epoch 25] Loss: nan, Recon loss: nan, Latent loss: nan\n",
      "Done!\n"
     ]
    },
    {
     "data": {
      "image/png": "[encoded data removed]",
      "text/plain": [
       "<Figure size 432x288 with 1 Axes>"
      ]
     },
     "metadata": {},
     "output_type": "display_data"
    }
   ],
   "source": [
    "# Train the model\n",
    "model = trainer(learning_rate=1e-8,  batch_size=100, num_epoch=26, n_z=2)\n",
    "    "
   ]
  },
  {
   "cell_type": "code",
   "execution_count": 5,
   "metadata": {},
   "outputs": [
    {
     "data": {
      "text/plain": [
       "range(0, 23)"
      ]
     },
     "execution_count": 5,
     "metadata": {},
     "output_type": "execute_result"
    }
   ],
   "source": [
    "c = range(23)\n",
    "c"
   ]
  },
  {
   "cell_type": "code",
   "execution_count": null,
   "metadata": {},
   "outputs": [],
   "source": []
  },
  {
   "cell_type": "code",
   "execution_count": null,
   "metadata": {},
   "outputs": [],
   "source": []
  }
 ],
 "metadata": {
  "kernelspec": {
   "display_name": "Python 3",
   "language": "python",
   "name": "python3"
  },
  "language_info": {
   "codemirror_mode": {
    "name": "ipython",
    "version": 3
   },
   "file_extension": ".py",
   "mimetype": "text/x-python",
   "name": "python",
   "nbconvert_exporter": "python",
   "pygments_lexer": "ipython3",
   "version": "3.6.4"
  }
 },
 "nbformat": 4,
 "nbformat_minor": 2
}
