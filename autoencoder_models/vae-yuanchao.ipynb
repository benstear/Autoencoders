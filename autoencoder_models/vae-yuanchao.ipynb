{
 "cells": [
  {
   "cell_type": "code",
   "execution_count": 1,
   "metadata": {},
   "outputs": [
    {
     "name": "stderr",
     "output_type": "stream",
     "text": [
      "/Users/dawnstear/desktop/tensorflow_update/lib/python3.6/importlib/_bootstrap.py:219: RuntimeWarning: numpy.dtype size changed, may indicate binary incompatibility. Expected 96, got 88\n",
      "  return f(*args, **kwds)\n",
      "/Users/dawnstear/desktop/tensorflow_update/lib/python3.6/importlib/_bootstrap.py:219: RuntimeWarning: numpy.dtype size changed, may indicate binary incompatibility. Expected 96, got 88\n",
      "  return f(*args, **kwds)\n"
     ]
    }
   ],
   "source": [
    "import numpy as np\n",
    "import tensorflow as tf\n",
    "from tensorflow.contrib.slim import fully_connected as fc  # pylint: disable=E0611\n",
    "import os\n",
    "import errno\n",
    "import scedar as sce\n",
    "import argparse\n",
    "import pandas as pd\n",
    "from timeit import default_timer as timer\n",
    "import utils\n",
    "\n",
    "data  =  pd.read_csv('/Users/dawnstear/desktop/chop_cellpred/data.csv')\n",
    "sclabels = data['Labels']\n",
    "scdata = data.drop(['Labels','TYPE'],axis=1)\n",
    "\n",
    "DataObj = utils.Data(scdata,sclabels,drop_remainder=True)  \n",
    "\n",
    "assert not np.any(np.isnan(scdata))\n",
    "assert not np.any(np.isnan(sclabels))\n",
    "\n",
    "maxval = np.amax(scdata)\n",
    "scdata = (scdata+1e-7)/maxval\n"
   ]
  },
  {
   "cell_type": "code",
   "execution_count": 2,
   "metadata": {},
   "outputs": [],
   "source": [
    "\n",
    "class VariantionalAutoencoder(object):\n",
    "    '''VAE implementation from https://github.com/shaohua0116/VAE-Tensorflow\n",
    "    '''\n",
    "    def __init__(self, input_dim, nelfirst, nelsecond, ndlfirst, ndlsecond,\n",
    "                 n_z=2, learning_rate=1e-3, batch_size=100):\n",
    "        self.input_dim = input_dim\n",
    "        self.nelfirst = nelfirst\n",
    "        self.nelsecond = nelsecond\n",
    "        self.ndlfirst = ndlfirst\n",
    "        self.ndlsecond = ndlsecond\n",
    "\n",
    "        self.learning_rate = learning_rate\n",
    "        self.batch_size = batch_size\n",
    "        self.n_z = n_z\n",
    "\n",
    "        self.build()\n",
    "\n",
    "        config = tf.ConfigProto()\n",
    "        config.gpu_options.allow_growth=True # pylint: disable=E1101\n",
    "        self.sess = tf.InteractiveSession(config=config)\n",
    "        self.sess.run(tf.global_variables_initializer())\n",
    "\n",
    "    # Build the netowrk and the loss functions\n",
    "    def build(self):\n",
    "        self.x = tf.placeholder(name='x', dtype=tf.float32,\n",
    "                                shape=[None, self.input_dim])\n",
    "        # Encode\n",
    "        # x -> z_mean, z_sigma -> z\n",
    "        f1 = fc(self.x, self.nelfirst, scope='enc_fc1',\n",
    "                activation_fn=tf.nn.elu)\n",
    "        f2 = fc(f1, self.nelsecond, scope='enc_fc2', activation_fn=tf.nn.elu)\n",
    "\n",
    "        self.z_mu = fc(f2, self.n_z, scope='enc_fc3_mu', activation_fn=None)\n",
    "        self.z_log_sigma_sq = fc(f2, self.n_z, scope='enc_fc3_sigma',\n",
    "                                 activation_fn=None)\n",
    "        eps = tf.random_normal(shape=tf.shape(self.z_log_sigma_sq),\n",
    "                               mean=0, stddev=1, dtype=tf.float32)\n",
    "        self.z = self.z_mu + tf.sqrt(tf.exp(self.z_log_sigma_sq)) * eps\n",
    "\n",
    "        # Decode\n",
    "        # z -> x_hat\n",
    "        g1 = fc(self.z, self.ndlfirst, scope='dec_fc1',\n",
    "                activation_fn=tf.nn.elu)\n",
    "        g2 = fc(g1, self.ndlsecond, scope='dec_fc2', activation_fn=tf.nn.elu)\n",
    "        self.x_hat = fc(g2, self.input_dim, scope='dec_fc3',\n",
    "                        activation_fn=tf.sigmoid)\n",
    "\n",
    "        # Loss\n",
    "        # Reconstruction loss\n",
    "        # Minimize the cross-entropy loss\n",
    "        # H(x, x_hat) = -\\Sigma x*log(x_hat) + (1-x)*log(1-x_hat)\n",
    "        epsilon = 1e-6\n",
    "        recon_loss = -tf.reduce_sum(\n",
    "            self.x * tf.log(epsilon+self.x_hat)\n",
    "            + (1-self.x) * tf.log(epsilon+1-self.x_hat),\n",
    "            axis=1\n",
    "        )\n",
    "        self.recon_loss = tf.reduce_mean(recon_loss)\n",
    "\n",
    "        # Latent loss\n",
    "        # Kullback Leibler divergence: measure the difference between\n",
    "        # two distributions Here we measure the divergence between the latent\n",
    "        # distribution and N(0, 1)\n",
    "        latent_loss = -0.5 * tf.reduce_sum(\n",
    "            1 + self.z_log_sigma_sq - tf.square(self.z_mu)\n",
    "            - tf.exp(self.z_log_sigma_sq), axis=1)\n",
    "        self.latent_loss = tf.reduce_mean(latent_loss)\n",
    "\n",
    "        self.total_loss = tf.reduce_mean(recon_loss + latent_loss)\n",
    "        self.train_op = tf.train.AdamOptimizer(\n",
    "            learning_rate=self.learning_rate).minimize(self.total_loss)\n",
    "        return\n",
    "\n",
    "    # Execute the forward and the backward pass\n",
    "    def run_single_step(self, x):\n",
    "        _, loss, recon_loss, latent_loss = self.sess.run(\n",
    "            [self.train_op, self.total_loss, self.recon_loss, self.latent_loss],\n",
    "            feed_dict={self.x: x}\n",
    "        )\n",
    "        return loss, recon_loss, latent_loss\n",
    "\n",
    "    # x -> x_hat\n",
    "    def reconstruct(self, x):\n",
    "        x_hat = self.sess.run(self.x_hat, feed_dict={self.x: x})\n",
    "        return x_hat\n",
    "\n",
    "    # z -> x\n",
    "    def generate(self, z):\n",
    "        x_hat = self.sess.run(self.x_hat, feed_dict={self.z: z})\n",
    "        return x_hat\n",
    "\n",
    "    # x -> z\n",
    "    def transform(self, x):\n",
    "        z = self.sess.run(self.z, feed_dict={self.x: x})\n",
    "        return z\n",
    "\n",
    "\n",
    "def train(train_data, nelfirst, nelsecond, ndlfirst, ndlsecond,\n",
    "          learning_rate=1e-5, batch_size=100, num_epoch=75):\n",
    "    input_dim = train_data.shape[1]\n",
    "    n_samples = train_data.shape[0]\n",
    "    model = VariantionalAutoencoder(\n",
    "        input_dim, nelfirst, nelsecond, ndlfirst, ndlsecond, n_z=2,\n",
    "        learning_rate=learning_rate, batch_size=batch_size)\n",
    "\n",
    "    for epoch in range(num_epoch):\n",
    "        for i in range(n_samples // batch_size):\n",
    "            # Obtina a batch\n",
    "            batch = train_data[i*batch_size:(i+1)*batch_size]\n",
    "            # Execute the forward and the backward pass and report computed losses\n",
    "            loss, recon_loss, latent_loss = model.run_single_step(batch)\n",
    "\n",
    "        if epoch % 5 == 0:\n",
    "            print('[Epoch {}] Loss: {}, Recon loss: {}, Latent loss: {}'.format(\n",
    "                epoch, loss, recon_loss, latent_loss))\n",
    "\n",
    "    print('Done!')\n",
    "    return model\n",
    "\n"
   ]
  },
  {
   "cell_type": "code",
   "execution_count": 3,
   "metadata": {},
   "outputs": [
    {
     "name": "stdout",
     "output_type": "stream",
     "text": [
      "[Epoch 0] Loss: nan, Recon loss: nan, Latent loss: nan\n",
      "[Epoch 5] Loss: nan, Recon loss: nan, Latent loss: nan\n",
      "[Epoch 10] Loss: nan, Recon loss: nan, Latent loss: nan\n",
      "Done!\n",
      "(1078, 2)\n"
     ]
    },
    {
     "ename": "AttributeError",
     "evalue": "module 'scedar' has no attribute 'eda'",
     "output_type": "error",
     "traceback": [
      "\u001b[0;31m---------------------------------------------------------------------------\u001b[0m",
      "\u001b[0;31mAttributeError\u001b[0m                            Traceback (most recent call last)",
      "\u001b[0;32m<ipython-input-3-05ffcd8abd74>\u001b[0m in \u001b[0;36m<module>\u001b[0;34m()\u001b[0m\n\u001b[1;32m     15\u001b[0m \u001b[0mtrans_time\u001b[0m \u001b[0;34m=\u001b[0m \u001b[0mtrans_end\u001b[0m \u001b[0;34m-\u001b[0m \u001b[0mtrans_start\u001b[0m\u001b[0;34m\u001b[0m\u001b[0m\n\u001b[1;32m     16\u001b[0m \u001b[0;34m\u001b[0m\u001b[0m\n\u001b[0;32m---> 17\u001b[0;31m fig = sce.eda.cluster_scatter(z, labels=labels, s=50, figsize=(15, 7),\n\u001b[0m\u001b[1;32m     18\u001b[0m                               n_txt_per_cluster=0, alpha=0.6)\n\u001b[1;32m     19\u001b[0m \u001b[0;34m\u001b[0m\u001b[0m\n",
      "\u001b[0;31mAttributeError\u001b[0m: module 'scedar' has no attribute 'eda'"
     ]
    }
   ],
   "source": [
    "train_start = timer()\n",
    "vae = train(scdata, 20, 20,\n",
    "            20, 20,\n",
    "            1e-11,\n",
    "            batch_size=100,\n",
    "            num_epoch=11)\n",
    "train_end = timer()\n",
    "train_time = train_end - train_start\n",
    "\n",
    "trans_start = timer()\n",
    "z = vae.transform(scdata)\n",
    "print(np.shape(z))\n",
    "trans_end = timer()\n",
    "\n",
    "trans_time = trans_end - trans_start\n",
    "\n",
    "fig = sce.eda.cluster_scatter(z, labels=labels, s=50, figsize=(15, 7),\n",
    "                              n_txt_per_cluster=0, alpha=0.6)\n",
    "\n",
    "\n"
   ]
  },
  {
   "cell_type": "code",
   "execution_count": 4,
   "metadata": {},
   "outputs": [
    {
     "data": {
      "text/plain": [
       "array([[nan, nan],\n",
       "       [nan, nan],\n",
       "       [nan, nan],\n",
       "       ...,\n",
       "       [nan, nan],\n",
       "       [nan, nan],\n",
       "       [nan, nan]], dtype=float32)"
      ]
     },
     "execution_count": 4,
     "metadata": {},
     "output_type": "execute_result"
    }
   ],
   "source": [
    "z"
   ]
  },
  {
   "cell_type": "code",
   "execution_count": null,
   "metadata": {},
   "outputs": [],
   "source": []
  }
 ],
 "metadata": {
  "kernelspec": {
   "display_name": "Python 3",
   "language": "python",
   "name": "python3"
  },
  "language_info": {
   "codemirror_mode": {
    "name": "ipython",
    "version": 3
   },
   "file_extension": ".py",
   "mimetype": "text/x-python",
   "name": "python",
   "nbconvert_exporter": "python",
   "pygments_lexer": "ipython3",
   "version": "3.6.4"
  }
 },
 "nbformat": 4,
 "nbformat_minor": 2
}
