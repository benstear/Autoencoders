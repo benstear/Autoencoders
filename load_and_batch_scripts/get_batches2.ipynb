{
 "cells": [
  {
   "cell_type": "code",
   "execution_count": 59,
   "metadata": {},
   "outputs": [],
   "source": [
    "import tensorflow as tf\n",
    "import pandas as pd\n",
    "import numpy as np\n",
    "from sklearn.model_selection import train_test_split\n",
    "from sklearn.utils import shuffle\n",
    "# Decorator for how counting how many times a function is called\n",
    "# If it's the first time we are calling the get_batches function then we want to initialize the data \n",
    "# matrix by shuffling and then iterating through the data in batch_size chunks\n",
    "\n",
    "# SOURCE: https://www.python-course.eu/python3_count_function_calls.php\n",
    "def call_counter(func):\n",
    "    def helper(*args, **kwargs):\n",
    "        helper.calls += 1\n",
    "        return func(*args, **kwargs)\n",
    "    helper.calls = 0\n",
    "    helper.__name__= func.__name__\n",
    "    return helper\n",
    "\n",
    "data  =  pd.read_csv('/Users/dawnstear/desktop/chop_cellpred/data.csv')\n",
    "scdata = data.drop(['Labels','TYPE'],axis=1)"
   ]
  },
  {
   "cell_type": "code",
   "execution_count": 203,
   "metadata": {},
   "outputs": [],
   "source": [
    "#get_batches.calls = 0\n",
    "@call_counter\n",
    "def get_batches(datamatrix,batch_size=None,test=False,test_size=0.2,SHUFFLE=True): \n",
    "    print('Beginning Call count: %s' % (get_batches.calls))\n",
    "    global X_train\n",
    "    global X_test\n",
    "    n_cells, n_genes= np.shape(datamatrix)\n",
    "    \n",
    "    # default batch size =1/10 of all samples\n",
    "    if batch_size is None: batch_size = int(n_cells*0.1) \n",
    "    else: batch_size = int(batch_size)\n",
    "        \n",
    "    assert batch_size < len(datamatrix)\n",
    "    \n",
    "    # If datamatrix != np.ndarray, then Convert to np array\n",
    "    if type(datamatrix) is not np.ndarray: datamatrix = np.asarray(datamatrix)\n",
    "        \n",
    "    assert type(datamatrix) == np.ndarray\n",
    "    \n",
    " # ---------Initialize and shuffle -------------------#   \n",
    "\n",
    "    # Only shuffle if its the first time calling the function (inside respective loop)\n",
    "    if get_batches.calls == 1 and SHUFFLE:\n",
    "        datamatrix = shuffle(datamatrix)\n",
    "        X_train, X_test, y_trn, y_tst = train_test_split(datamatrix,np.zeros(n_cells),test_size=test_size,shuffle=False)#,random_state=144)\n",
    "        X_train, X_test = list(X_train),list(X_test)\n",
    "    elif get_batches.calls == 1 and not SHUFFLE: # Non-shuffle case \n",
    "        X_train, X_test, y_trn, y_tst = train_test_split(datamatrix,np.zeros(n_cells),test_size=test_size,shuffle=False)#,random_state=144)\n",
    "        X_train, X_test = list(X_train),list(X_test)\n",
    "# -----------------------------------------------------------#\n",
    "    n_batches = int(n_cells/batch_size) \n",
    "    #print('Call count: %s' % (get_batches.calls))\n",
    "    #print('n batches = %s' % (n_batches))\n",
    "    while get_batches.calls < n_batches: # MUST BE <, not <= \n",
    "        if not test:\n",
    "            print('X_train samples remaining= %s' % (len(X_train)))\n",
    "            train_batch = [X_train.pop() for idx in range(batch_size)]\n",
    "            return train_batch    \n",
    "        else:\n",
    "            print('X_test samples remaining = %s' % (len(X_test)))\n",
    "            test_batch = [X_test.pop() for idx in range(batch_size)]\n",
    "            return test_batch\n",
    "    \n",
    "    if get_batches.calls == n_batches:\n",
    "        get_batches.calls = 0   # if we're on the last batch, reset calls\n",
    "        print('CALLS RESET')\n",
    "        return None\n",
    "        \n",
    "# ------------------------------------------------------------------- #    \n",
    "# FUNCTION TESTS:\n",
    "# make sure get_batches.calls = 0 right before function exits the last time, DONE\n",
    "# make sure were popping consecutive data points (not same ones each time) DONE\n",
    "# make sure X_train/X_test arent reinit'd every iter, DONE\n",
    "# make sure X_train shrinks by batch_size every time fcn is called, DONE "
   ]
  },
  {
   "cell_type": "code",
   "execution_count": 204,
   "metadata": {},
   "outputs": [
    {
     "name": "stdout",
     "output_type": "stream",
     "text": [
      "Beginning Call count: 1\n",
      "X_train samples remaining= 862\n",
      "Beginning Call count: 2\n",
      "X_train samples remaining= 662\n",
      "Beginning Call count: 3\n",
      "X_train samples remaining= 462\n",
      "Beginning Call count: 4\n",
      "X_train samples remaining= 262\n",
      "Beginning Call count: 5\n",
      "CALLS RESET\n"
     ]
    }
   ],
   "source": [
    " # convert to tensor ?\n",
    " # can only do for loop of n_batches right now   \n",
    "n = 5 # n must be < n_batches\n",
    "for j in range(n):\n",
    "    c = get_batches(scdata,batch_size=200,test=False)\n",
    "    #print(c)\n",
    "    "
   ]
  },
  {
   "cell_type": "code",
   "execution_count": 172,
   "metadata": {},
   "outputs": [
    {
     "name": "stdout",
     "output_type": "stream",
     "text": [
      "0\n"
     ]
    }
   ],
   "source": [
    "print(get_batches.calls)   \n",
    "\n",
    "    "
   ]
  },
  {
   "cell_type": "code",
   "execution_count": null,
   "metadata": {},
   "outputs": [],
   "source": []
  },
  {
   "cell_type": "code",
   "execution_count": null,
   "metadata": {},
   "outputs": [],
   "source": []
  }
 ],
 "metadata": {
  "kernelspec": {
   "display_name": "Python 3",
   "language": "python",
   "name": "python3"
  },
  "language_info": {
   "codemirror_mode": {
    "name": "ipython",
    "version": 3
   },
   "file_extension": ".py",
   "mimetype": "text/x-python",
   "name": "python",
   "nbconvert_exporter": "python",
   "pygments_lexer": "ipython3",
   "version": "3.6.4"
  }
 },
 "nbformat": 4,
 "nbformat_minor": 2
}
